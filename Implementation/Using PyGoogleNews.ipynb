{
 "cells": [
  {
   "cell_type": "code",
   "execution_count": 1,
   "metadata": {},
   "outputs": [
    {
     "name": "stdout",
     "output_type": "stream",
     "text": [
      "Requirement already satisfied: pygooglenews in c:\\users\\resca\\onedrive\\escritorio\\projects\\4260_specialtopics\\.venv\\lib\\site-packages (0.1.3)\n",
      "Requirement already satisfied: beautifulsoup4<5.0.0,>=4.11.1 in c:\\users\\resca\\onedrive\\escritorio\\projects\\4260_specialtopics\\.venv\\lib\\site-packages (from pygooglenews) (4.13.3)\n",
      "Requirement already satisfied: dateparser<2.0.0,>=1.1.1 in c:\\users\\resca\\onedrive\\escritorio\\projects\\4260_specialtopics\\.venv\\lib\\site-packages (from pygooglenews) (1.2.1)\n",
      "Requirement already satisfied: feedparser<7.0.0,>=6.0.8 in c:\\users\\resca\\onedrive\\escritorio\\projects\\4260_specialtopics\\.venv\\lib\\site-packages (from pygooglenews) (6.0.11)\n",
      "Requirement already satisfied: requests<3.0.0,>=2.28.1 in c:\\users\\resca\\onedrive\\escritorio\\projects\\4260_specialtopics\\.venv\\lib\\site-packages (from pygooglenews) (2.32.3)\n",
      "Requirement already satisfied: soupsieve>1.2 in c:\\users\\resca\\onedrive\\escritorio\\projects\\4260_specialtopics\\.venv\\lib\\site-packages (from beautifulsoup4<5.0.0,>=4.11.1->pygooglenews) (2.6)\n",
      "Requirement already satisfied: typing-extensions>=4.0.0 in c:\\users\\resca\\onedrive\\escritorio\\projects\\4260_specialtopics\\.venv\\lib\\site-packages (from beautifulsoup4<5.0.0,>=4.11.1->pygooglenews) (4.12.2)\n",
      "Requirement already satisfied: python-dateutil>=2.7.0 in c:\\users\\resca\\onedrive\\escritorio\\projects\\4260_specialtopics\\.venv\\lib\\site-packages (from dateparser<2.0.0,>=1.1.1->pygooglenews) (2.9.0.post0)\n",
      "Requirement already satisfied: pytz>=2024.2 in c:\\users\\resca\\onedrive\\escritorio\\projects\\4260_specialtopics\\.venv\\lib\\site-packages (from dateparser<2.0.0,>=1.1.1->pygooglenews) (2025.1)\n",
      "Requirement already satisfied: regex!=2019.02.19,!=2021.8.27,>=2015.06.24 in c:\\users\\resca\\onedrive\\escritorio\\projects\\4260_specialtopics\\.venv\\lib\\site-packages (from dateparser<2.0.0,>=1.1.1->pygooglenews) (2024.11.6)\n",
      "Requirement already satisfied: tzlocal>=0.2 in c:\\users\\resca\\onedrive\\escritorio\\projects\\4260_specialtopics\\.venv\\lib\\site-packages (from dateparser<2.0.0,>=1.1.1->pygooglenews) (5.2)\n",
      "Requirement already satisfied: sgmllib3k in c:\\users\\resca\\onedrive\\escritorio\\projects\\4260_specialtopics\\.venv\\lib\\site-packages (from feedparser<7.0.0,>=6.0.8->pygooglenews) (1.0.0)\n",
      "Requirement already satisfied: charset-normalizer<4,>=2 in c:\\users\\resca\\onedrive\\escritorio\\projects\\4260_specialtopics\\.venv\\lib\\site-packages (from requests<3.0.0,>=2.28.1->pygooglenews) (3.4.1)\n",
      "Requirement already satisfied: idna<4,>=2.5 in c:\\users\\resca\\onedrive\\escritorio\\projects\\4260_specialtopics\\.venv\\lib\\site-packages (from requests<3.0.0,>=2.28.1->pygooglenews) (3.10)\n",
      "Requirement already satisfied: urllib3<3,>=1.21.1 in c:\\users\\resca\\onedrive\\escritorio\\projects\\4260_specialtopics\\.venv\\lib\\site-packages (from requests<3.0.0,>=2.28.1->pygooglenews) (2.3.0)\n",
      "Requirement already satisfied: certifi>=2017.4.17 in c:\\users\\resca\\onedrive\\escritorio\\projects\\4260_specialtopics\\.venv\\lib\\site-packages (from requests<3.0.0,>=2.28.1->pygooglenews) (2025.1.31)\n",
      "Requirement already satisfied: six>=1.5 in c:\\users\\resca\\onedrive\\escritorio\\projects\\4260_specialtopics\\.venv\\lib\\site-packages (from python-dateutil>=2.7.0->dateparser<2.0.0,>=1.1.1->pygooglenews) (1.17.0)\n",
      "Requirement already satisfied: tzdata in c:\\users\\resca\\onedrive\\escritorio\\projects\\4260_specialtopics\\.venv\\lib\\site-packages (from tzlocal>=0.2->dateparser<2.0.0,>=1.1.1->pygooglenews) (2025.1)\n",
      "Note: you may need to restart the kernel to use updated packages.\n"
     ]
    }
   ],
   "source": [
    "# Install the pygooglenews package\n",
    "%pip install pygooglenews\n",
    "\n",
    "from pygooglenews import GoogleNews\n",
    "import json\n",
    "import time"
   ]
  }
 ],
 "metadata": {
  "kernelspec": {
   "display_name": ".venv",
   "language": "python",
   "name": "python3"
  },
  "language_info": {
   "codemirror_mode": {
    "name": "ipython",
    "version": 3
   },
   "file_extension": ".py",
   "mimetype": "text/x-python",
   "name": "python",
   "nbconvert_exporter": "python",
   "pygments_lexer": "ipython3",
   "version": "3.13.2"
  }
 },
 "nbformat": 4,
 "nbformat_minor": 2
}
