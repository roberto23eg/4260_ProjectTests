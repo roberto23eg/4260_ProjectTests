{
 "cells": [
  {
   "cell_type": "code",
   "execution_count": 4,
   "metadata": {},
   "outputs": [],
   "source": [
    "import requests\n",
    "from bs4 import BeautifulSoup\n",
    "\n",
    "url = 'https://news.google.com/'\n",
    "response = requests.get(url)\n",
    "soup = BeautifulSoup(response.text, 'html.parser')"
   ]
  },
  {
   "cell_type": "markdown",
   "metadata": {},
   "source": [
    "Parsing the data"
   ]
  },
  {
   "cell_type": "code",
   "execution_count": 5,
   "metadata": {},
   "outputs": [
    {
     "name": "stdout",
     "output_type": "stream",
     "text": [
      "h3 not found\n",
      "h3 not found\n",
      "h3 not found\n",
      "h3 not found\n",
      "h3 not found\n",
      "h3 not found\n",
      "h3 not found\n",
      "h3 not found\n",
      "h3 not found\n",
      "h3 not found\n"
     ]
    }
   ],
   "source": [
    "articles = soup.find_all('article')\n",
    "for article in articles:\n",
    "    h3_tag = article.find('h3')\n",
    "    if h3_tag:\n",
    "        title = h3_tag.text\n",
    "        link = article.find('a')['href']\n",
    "        print(f'Title: {title}, Link: {link}')\n",
    "    else:\n",
    "        print('h3 not found')"
   ]
  },
  {
   "cell_type": "code",
   "execution_count": 6,
   "metadata": {},
   "outputs": [
    {
     "name": "stdout",
     "output_type": "stream",
     "text": [
      "Headline not found\n",
      "\n",
      "Headline not found\n",
      "\n",
      "Headline not found\n",
      "\n",
      "Headline not found\n",
      "\n",
      "Headline not found\n",
      "\n",
      "Headline not found\n",
      "\n",
      "Headline not found\n",
      "\n",
      "Headline not found\n",
      "\n",
      "Headline not found\n",
      "\n",
      "Headline not found\n",
      "\n"
     ]
    }
   ],
   "source": [
    "url = 'https://news.google.com/topstories'\n",
    "response = requests.get(url)\n",
    "soup = BeautifulSoup(response.content, 'html.parser')\n",
    "\n",
    "articles = soup.find_all('article')\n",
    "for article in articles:\n",
    "    headline = article.find('h3')\n",
    "    if headline:\n",
    "        print(f\"Headline: {headline.text}\")\n",
    "        link = article.find('a', href=True)\n",
    "        if link:\n",
    "            print(f\"Link: https://news.google.com{link['href'][1:]}\\n\")\n",
    "        else:\n",
    "            print(\"Link not found\\n\")\n",
    "    else:\n",
    "        print(\"Headline not found\\n\")"
   ]
  }
 ],
 "metadata": {
  "kernelspec": {
   "display_name": ".venv",
   "language": "python",
   "name": "python3"
  },
  "language_info": {
   "codemirror_mode": {
    "name": "ipython",
    "version": 3
   },
   "file_extension": ".py",
   "mimetype": "text/x-python",
   "name": "python",
   "nbconvert_exporter": "python",
   "pygments_lexer": "ipython3",
   "version": "3.13.2"
  }
 },
 "nbformat": 4,
 "nbformat_minor": 2
}
